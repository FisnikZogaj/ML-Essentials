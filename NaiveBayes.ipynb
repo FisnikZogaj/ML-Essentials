{
 "cells": [
  {
   "attachments": {},
   "cell_type": "markdown",
   "id": "033b6a2a",
   "metadata": {},
   "source": [
    "### Classifying Movie-Genres based on their Information.\n",
    "techniques used:\n",
    "\n",
    "- API requests\n",
    "- Naive Bayes Classification "
   ]
  },
  {
   "cell_type": "code",
   "execution_count": null,
   "id": "95b82048",
   "metadata": {},
   "outputs": [],
   "source": [
    "import numpy as np\n",
    "import math\n",
    "from matplotlib import pyplot as plt\n",
    "import pandas as pd \n",
    "import tmdbsimple as tmdb\n",
    "#import json\n",
    "import swifter "
   ]
  },
  {
   "attachments": {},
   "cell_type": "markdown",
   "id": "e83ee5e9",
   "metadata": {},
   "source": [
    "### Steps \n",
    "We want to classify, wheter or not a movie belongs to the Drama-Genre, given some *trigger-words* in the Overview.\n",
    "Say for example, the word \"tragedy\" is in the Overview. Is it more likely to be a Drama Movie or not? \n",
    "\n",
    "1. clean the Text (i.e. remove Stop words, etc.) \n",
    "2. Calculate prior probs $$\\frac{n_{Drama}}{total}$$ and $$\\frac{n_{non-Drama}}{total}$$ \n",
    "3. create 2 word Histogramms: One for Dramamovies and one for non-Dramamovies\n",
    "4. Calculate their relative frequencies within both groups \n",
    "5. Calculate Bayes, where the triggerword is in the denominator  $$P(Drama | Tragedy) = \\frac{P(Tragedy | Drama) \\cdot P(Drama)}{P(Tragedy)}$$\n",
    "<br>\n",
    "$$P(non-Drama| Tragedy) = \\frac{P(Tragedy | non-Drama) \\cdot P(non-Drama)}{P(Tragedy)}$$"
   ]
  },
  {
   "cell_type": "markdown",
   "id": "78509e03",
   "metadata": {},
   "source": [
    "### Sourced from Kaggle: \n",
    "https://www.kaggle.com/datasets/darshanpatel3112/top-rated-movies-from-tmdb "
   ]
  },
  {
   "cell_type": "code",
   "execution_count": 2,
   "id": "e42011f1",
   "metadata": {},
   "outputs": [
    {
     "name": "stdout",
     "output_type": "stream",
     "text": [
      "<class 'pandas.core.frame.DataFrame'>\n",
      "RangeIndex: 10000 entries, 0 to 9999\n",
      "Data columns (total 6 columns):\n",
      " #   Column          Non-Null Count  Dtype  \n",
      "---  ------          --------------  -----  \n",
      " 0   id              10000 non-null  int64  \n",
      " 1   original_title  10000 non-null  object \n",
      " 2   overview        9997 non-null   object \n",
      " 3   popularity      10000 non-null  float64\n",
      " 4   vote_average    10000 non-null  float64\n",
      " 5   vote_count      10000 non-null  int64  \n",
      "dtypes: float64(2), int64(2), object(2)\n",
      "memory usage: 468.9+ KB\n"
     ]
    }
   ],
   "source": [
    "movies = pd.read_csv(\"Data\\movies.csv\") \n",
    "movies = movies.drop(\"Unnamed: 0\", axis = 1)\n",
    "movies.info()"
   ]
  },
  {
   "cell_type": "code",
   "execution_count": 67,
   "id": "16f6ce01",
   "metadata": {},
   "outputs": [],
   "source": [
    "movies.vote_count = movies.vote_count.astype(\"int32\")\n",
    "movies.id = movies.id.astype(\"int32\")"
   ]
  },
  {
   "attachments": {},
   "cell_type": "markdown",
   "id": "38d133e8",
   "metadata": {},
   "source": [
    "Gathering the Genres of the movie from the TMDB API:\n",
    "<br>\n",
    "very timeconsuming, the Dataframe was hence saved: "
   ]
  },
  {
   "cell_type": "raw",
   "id": "83f96a95",
   "metadata": {},
   "source": [
    "tmdb.API_KEY = 'My-API-key'\n",
    "\n",
    "ids = movies.id\n",
    "gen_dicts = [tmdb.Movies(j).info()[\"genres\"] for j in ids]\n",
    "\n",
    "helper = lambda i: [ids[\"name\"] for ids in i]\n",
    "genre_matrix = [helper(j) for j in gen_dicts]\n",
    "\n",
    "mg = max([len(i) for i in genre_matrix])\n",
    "\n",
    "######################################################\n",
    "#Some Movies have up to 9 Genres (extend the columns):\n",
    "######################################################\n",
    "\n",
    "for i,el in enumerate(genre_matrix):\n",
    "    t = 9-len(el)\n",
    "    genre_matrix[i].extend([\"None\" for _ in range(t)])\n",
    "\n",
    "Genres = np.array(genre_matrix)\n",
    "with open('Genres.json', 'w') as f:\n",
    "     json.dump(Genres, f)\n",
    "\n",
    "Genres = pd.DataFrame(Genres)\n",
    "\n",
    "########\n",
    "#rename:\n",
    "########\n",
    "\n",
    "for i, col in enumerate(Genres.columns):\n",
    "    if i > 0:\n",
    "        new_col_name = 'Genre{}'.format((i+1))\n",
    "        Genres = Genres.rename(columns={col: new_col_name})\n",
    "    else:\n",
    "        new_col_name = 'Genre'\n",
    "        Genres = Genres.rename(columns={col: new_col_name})\n",
    "        \n",
    "        \n",
    "##########\n",
    "#reformat:\n",
    "##########        \n",
    "Genres.Genre = Genres.Genre.astype(\"category\")\n",
    "for i in range(2,10):\n",
    "    Genres['Genre{}'.format(i)] = Genres['Genre{}'.format(i)].astype(\"category\")\n",
    "    \n",
    "#####\n",
    "#save:\n",
    "#####\n",
    "\n",
    "Genres.to_csv(\"Data\\Genres.csv\", index = False)"
   ]
  },
  {
   "attachments": {},
   "cell_type": "markdown",
   "id": "4a3025fb",
   "metadata": {},
   "source": [
    "Now the Genres from each film have been gathered. Some movies have up to 9 Genres. Thus 9 new Columns are created."
   ]
  },
  {
   "cell_type": "code",
   "execution_count": 3,
   "id": "fc8162ef",
   "metadata": {},
   "outputs": [
    {
     "data": {
      "text/html": [
       "<div>\n",
       "<style scoped>\n",
       "    .dataframe tbody tr th:only-of-type {\n",
       "        vertical-align: middle;\n",
       "    }\n",
       "\n",
       "    .dataframe tbody tr th {\n",
       "        vertical-align: top;\n",
       "    }\n",
       "\n",
       "    .dataframe thead th {\n",
       "        text-align: right;\n",
       "    }\n",
       "</style>\n",
       "<table border=\"1\" class=\"dataframe\">\n",
       "  <thead>\n",
       "    <tr style=\"text-align: right;\">\n",
       "      <th></th>\n",
       "      <th>Genre</th>\n",
       "      <th>Genre2</th>\n",
       "      <th>Genre3</th>\n",
       "      <th>Genre4</th>\n",
       "      <th>Genre5</th>\n",
       "      <th>Genre6</th>\n",
       "      <th>Genre7</th>\n",
       "      <th>Genre8</th>\n",
       "      <th>Genre9</th>\n",
       "    </tr>\n",
       "  </thead>\n",
       "  <tbody>\n",
       "    <tr>\n",
       "      <th>0</th>\n",
       "      <td>Drama</td>\n",
       "      <td>Crime</td>\n",
       "      <td>None</td>\n",
       "      <td>None</td>\n",
       "      <td>None</td>\n",
       "      <td>None</td>\n",
       "      <td>None</td>\n",
       "      <td>None</td>\n",
       "      <td>None</td>\n",
       "    </tr>\n",
       "    <tr>\n",
       "      <th>1</th>\n",
       "      <td>Drama</td>\n",
       "      <td>Crime</td>\n",
       "      <td>None</td>\n",
       "      <td>None</td>\n",
       "      <td>None</td>\n",
       "      <td>None</td>\n",
       "      <td>None</td>\n",
       "      <td>None</td>\n",
       "      <td>None</td>\n",
       "    </tr>\n",
       "    <tr>\n",
       "      <th>2</th>\n",
       "      <td>Comedy</td>\n",
       "      <td>Fantasy</td>\n",
       "      <td>None</td>\n",
       "      <td>None</td>\n",
       "      <td>None</td>\n",
       "      <td>None</td>\n",
       "      <td>None</td>\n",
       "      <td>None</td>\n",
       "      <td>None</td>\n",
       "    </tr>\n",
       "    <tr>\n",
       "      <th>3</th>\n",
       "      <td>Drama</td>\n",
       "      <td>Crime</td>\n",
       "      <td>None</td>\n",
       "      <td>None</td>\n",
       "      <td>None</td>\n",
       "      <td>None</td>\n",
       "      <td>None</td>\n",
       "      <td>None</td>\n",
       "      <td>None</td>\n",
       "    </tr>\n",
       "    <tr>\n",
       "      <th>4</th>\n",
       "      <td>Drama</td>\n",
       "      <td>History</td>\n",
       "      <td>War</td>\n",
       "      <td>None</td>\n",
       "      <td>None</td>\n",
       "      <td>None</td>\n",
       "      <td>None</td>\n",
       "      <td>None</td>\n",
       "      <td>None</td>\n",
       "    </tr>\n",
       "  </tbody>\n",
       "</table>\n",
       "</div>"
      ],
      "text/plain": [
       "    Genre   Genre2 Genre3 Genre4 Genre5 Genre6 Genre7 Genre8 Genre9\n",
       "0   Drama    Crime   None   None   None   None   None   None   None\n",
       "1   Drama    Crime   None   None   None   None   None   None   None\n",
       "2  Comedy  Fantasy   None   None   None   None   None   None   None\n",
       "3   Drama    Crime   None   None   None   None   None   None   None\n",
       "4   Drama  History    War   None   None   None   None   None   None"
      ]
     },
     "execution_count": 3,
     "metadata": {},
     "output_type": "execute_result"
    }
   ],
   "source": [
    "Genres = pd.read_csv(\"Data\\Genres.csv\") \n",
    "Genres.head()"
   ]
  },
  {
   "cell_type": "code",
   "execution_count": 4,
   "id": "4a493649",
   "metadata": {},
   "outputs": [
    {
     "data": {
      "image/png": "[encoded data removed]",
      "text/plain": [
       "<Figure size 640x480 with 1 Axes>"
      ]
     },
     "metadata": {},
     "output_type": "display_data"
    }
   ],
   "source": [
    "unique_genres = pd.Series(Genres.values.flatten()).value_counts()\n",
    "unique_genres = unique_genres.iloc[1:] \n",
    "\n",
    "plt.xticks(rotation=45)\n",
    "plt.bar(unique_genres.index, unique_genres)\n",
    "plt.ylabel('Frequency')\n",
    "plt.title('Genres')\n",
    "plt.show()\n",
    "# Note: one Movie can have multiple Genres, so the sum of the Barplot != 10_000"
   ]
  },
  {
   "cell_type": "code",
   "execution_count": 88,
   "id": "4af14669",
   "metadata": {},
   "outputs": [
    {
     "data": {
      "application/vnd.jupyter.widget-view+json": {
       "model_id": "78cc1afce5384295a3523341126ed434",
       "version_major": 2,
       "version_minor": 0
      },
      "text/plain": [
       "Pandas Apply:   0%|          | 0/10000 [00:00<?, ?it/s]"
      ]
     },
     "metadata": {},
     "output_type": "display_data"
    }
   ],
   "source": [
    "#Generate a dummy of Movies, that can be classified as Drama \n",
    "drama_loc = lambda row: 1 if (\"Drama\" in list(row)) else 0 \n",
    "drama = Genres.swifter.apply(drama_loc, axis = 1)"
   ]
  },
  {
   "cell_type": "code",
   "execution_count": 89,
   "id": "e2a37549",
   "metadata": {},
   "outputs": [
    {
     "data": {
      "text/plain": [
       "0.4723"
      ]
     },
     "execution_count": 89,
     "metadata": {},
     "output_type": "execute_result"
    }
   ],
   "source": [
    "prob_drama = sum(drama)/10_000\n",
    "prob_non_drama = 1 - prob_drama\n",
    "prob_drama\n",
    "# Almost equal groups "
   ]
  },
  {
   "cell_type": "markdown",
   "id": "6428bdc5",
   "metadata": {},
   "source": [
    "For multiple word, we calculate each Posterior Prob for every word (i.e. in a sentence) and multiply their probs\n",
    "<br>\n",
    "(independece assumtion gives the name _naive_ Bayes, although we do expect words to have a certain order and connections with each other.) "
   ]
  },
  {
   "cell_type": "code",
   "execution_count": 41,
   "id": "5da20d80",
   "metadata": {},
   "outputs": [
    {
     "name": "stderr",
     "output_type": "stream",
     "text": [
      "[nltk_data] Downloading package stopwords to\n",
      "[nltk_data]     C:\\Users\\zogaj\\AppData\\Roaming\\nltk_data...\n",
      "[nltk_data]   Package stopwords is already up-to-date!\n",
      "[nltk_data] Downloading package punkt to\n",
      "[nltk_data]     C:\\Users\\zogaj\\AppData\\Roaming\\nltk_data...\n",
      "[nltk_data]   Unzipping tokenizers\\punkt.zip.\n"
     ]
    },
    {
     "data": {
      "text/plain": [
       "True"
      ]
     },
     "execution_count": 41,
     "metadata": {},
     "output_type": "execute_result"
    }
   ],
   "source": [
    "import nltk\n",
    "from nltk.corpus import stopwords\n",
    "from nltk.tokenize import word_tokenize\n",
    "import re\n",
    "nltk.download('stopwords')\n",
    "nltk.download('punkt')"
   ]
  },
  {
   "cell_type": "markdown",
   "id": "a4f241c6",
   "metadata": {},
   "source": [
    "- from: movies.overview[0]\n",
    "\n",
    "'Spanning the years 1945 to 1955, a chronicle of the fictional Italian-American Corleone crime family. When organized crime family patriarch, Vito Corleone barely survives an attempt on his life, his youngest son, Michael steps in to take care of the would-be killers, launching a campaign of bloody revenge.'"
   ]
  },
  {
   "cell_type": "code",
   "execution_count": 129,
   "id": "68e00a40",
   "metadata": {},
   "outputs": [],
   "source": [
    "def trim(text):\n",
    "    if isinstance(text, str) :\n",
    "        text = text.lower()\n",
    "        words = text.split()\n",
    "        words = [word for word in words if word not in stopwords.words('english')]\n",
    "        text_without_stopwords = ' '.join(words)\n",
    "\n",
    "        return text_without_stopwords\n",
    "    return \"\""
   ]
  },
  {
   "cell_type": "raw",
   "id": "e9543a25",
   "metadata": {},
   "source": [
    "overview2 = movies.overview.swifter.apply(trim)\n",
    "overview2.to_csv('Data\\overview2.csv', index=False)"
   ]
  },
  {
   "cell_type": "code",
   "execution_count": 7,
   "id": "a07e791f",
   "metadata": {},
   "outputs": [],
   "source": [
    "overview2 = pd.read_csv('Data\\overview2.csv')"
   ]
  },
  {
   "cell_type": "code",
   "execution_count": 12,
   "id": "f59cda4a",
   "metadata": {},
   "outputs": [
    {
     "data": {
      "text/html": [
       "<div>\n",
       "<style scoped>\n",
       "    .dataframe tbody tr th:only-of-type {\n",
       "        vertical-align: middle;\n",
       "    }\n",
       "\n",
       "    .dataframe tbody tr th {\n",
       "        vertical-align: top;\n",
       "    }\n",
       "\n",
       "    .dataframe thead th {\n",
       "        text-align: right;\n",
       "    }\n",
       "</style>\n",
       "<table border=\"1\" class=\"dataframe\">\n",
       "  <thead>\n",
       "    <tr style=\"text-align: right;\">\n",
       "      <th></th>\n",
       "      <th>drama</th>\n",
       "      <th>overview</th>\n",
       "    </tr>\n",
       "  </thead>\n",
       "  <tbody>\n",
       "    <tr>\n",
       "      <th>0</th>\n",
       "      <td>1</td>\n",
       "      <td>spanning years 1945 1955, chronicle fictional ...</td>\n",
       "    </tr>\n",
       "    <tr>\n",
       "      <th>1</th>\n",
       "      <td>1</td>\n",
       "      <td>framed 1940s double murder wife lover, upstand...</td>\n",
       "    </tr>\n",
       "    <tr>\n",
       "      <th>3</th>\n",
       "      <td>1</td>\n",
       "      <td>continuing saga corleone crime family, young v...</td>\n",
       "    </tr>\n",
       "    <tr>\n",
       "      <th>4</th>\n",
       "      <td>1</td>\n",
       "      <td>true story businessman oskar schindler saved t...</td>\n",
       "    </tr>\n",
       "    <tr>\n",
       "      <th>5</th>\n",
       "      <td>1</td>\n",
       "      <td>raj rich, carefree, happy-go-lucky second gene...</td>\n",
       "    </tr>\n",
       "  </tbody>\n",
       "</table>\n",
       "</div>"
      ],
      "text/plain": [
       "   drama                                           overview\n",
       "0      1  spanning years 1945 1955, chronicle fictional ...\n",
       "1      1  framed 1940s double murder wife lover, upstand...\n",
       "3      1  continuing saga corleone crime family, young v...\n",
       "4      1  true story businessman oskar schindler saved t...\n",
       "5      1  raj rich, carefree, happy-go-lucky second gene..."
      ]
     },
     "metadata": {},
     "output_type": "display_data"
    },
    {
     "data": {
      "text/html": [
       "<div>\n",
       "<style scoped>\n",
       "    .dataframe tbody tr th:only-of-type {\n",
       "        vertical-align: middle;\n",
       "    }\n",
       "\n",
       "    .dataframe tbody tr th {\n",
       "        vertical-align: top;\n",
       "    }\n",
       "\n",
       "    .dataframe thead th {\n",
       "        text-align: right;\n",
       "    }\n",
       "</style>\n",
       "<table border=\"1\" class=\"dataframe\">\n",
       "  <thead>\n",
       "    <tr style=\"text-align: right;\">\n",
       "      <th></th>\n",
       "      <th>drama</th>\n",
       "      <th>overview</th>\n",
       "    </tr>\n",
       "  </thead>\n",
       "  <tbody>\n",
       "    <tr>\n",
       "      <th>2</th>\n",
       "      <td>0</td>\n",
       "      <td>70-year-old malena gets second chance life mag...</td>\n",
       "    </tr>\n",
       "    <tr>\n",
       "      <th>6</th>\n",
       "      <td>0</td>\n",
       "      <td>young girl, chihiro, becomes trapped strange n...</td>\n",
       "    </tr>\n",
       "    <tr>\n",
       "      <th>12</th>\n",
       "      <td>0</td>\n",
       "      <td>unlikely friendship boy, mole, fox horse trave...</td>\n",
       "    </tr>\n",
       "    <tr>\n",
       "      <th>13</th>\n",
       "      <td>0</td>\n",
       "      <td>burger-loving hit man, philosophical partner, ...</td>\n",
       "    </tr>\n",
       "    <tr>\n",
       "      <th>14</th>\n",
       "      <td>0</td>\n",
       "      <td>civil war rages union confederacy, three men –...</td>\n",
       "    </tr>\n",
       "  </tbody>\n",
       "</table>\n",
       "</div>"
      ],
      "text/plain": [
       "    drama                                           overview\n",
       "2       0  70-year-old malena gets second chance life mag...\n",
       "6       0  young girl, chihiro, becomes trapped strange n...\n",
       "12      0  unlikely friendship boy, mole, fox horse trave...\n",
       "13      0  burger-loving hit man, philosophical partner, ...\n",
       "14      0  civil war rages union confederacy, three men –..."
      ]
     },
     "metadata": {},
     "output_type": "display_data"
    }
   ],
   "source": [
    "df = pd.concat([drama, overview2], axis = 1)\n",
    "df = df.rename(columns={0: 'drama'})\n",
    "drama_groups = df.groupby(\"drama\")\n",
    "nondrama_df, drama_df = (drama_groups.get_group(drama) for drama in drama_groups.groups)\n",
    "display(drama_df.head(), nondrama_df.head())"
   ]
  },
  {
   "cell_type": "markdown",
   "id": "460d19df",
   "metadata": {},
   "source": [
    "From here we need to clean the \"overview\" columns of both DataFrames. \n",
    "<br> \n",
    "1. Flatten the columns\n",
    "2. Join into one list\n",
    "3. Remove puntuation "
   ]
  },
  {
   "cell_type": "code",
   "execution_count": 26,
   "id": "422c2932",
   "metadata": {},
   "outputs": [],
   "source": [
    "words_drama = re.sub(r'[^\\w\\s]', '', ' '.join(drama_df.overview.values.flatten()))\n",
    "\n",
    "#Note there are 3 NaN values that need to be cleaned (i.e. converted to string)\n",
    "cleaned_nondrama = [str(t) if isinstance(t, float) else t for t in nondrama_df.overview.values.flatten()]\n",
    "words_nondrama = re.sub(r'[^\\w\\s]', '', ' '.join(cleaned_nondrama))"
   ]
  },
  {
   "cell_type": "code",
   "execution_count": 50,
   "id": "eede3e9c",
   "metadata": {},
   "outputs": [],
   "source": [
    "words1 = word_tokenize(words_drama)\n",
    "word_freq_drama = nltk.FreqDist(words1)\n",
    "\n",
    "words2 = word_tokenize(words_nondrama)\n",
    "word_freq_non_drama = nltk.FreqDist(words2)"
   ]
  },
  {
   "cell_type": "markdown",
   "id": "10022ed7",
   "metadata": {},
   "source": [
    "###### Pick some words that are associated with dramas, nonDramas and count their occurence in the overview "
   ]
  },
  {
   "cell_type": "code",
   "execution_count": 69,
   "id": "63b31ad7",
   "metadata": {},
   "outputs": [
    {
     "name": "stdout",
     "output_type": "stream",
     "text": [
      "Sad:  \n",
      " ['death', 'pain', 'dramatic', 'grief']\n",
      "Drama:  [205, 18, 14, 14]\n",
      "nonDrama:  [176, 12, 3, 1] \n",
      "\n",
      "Happy:  \n",
      " ['happy', 'love', 'fun', 'friends']\n",
      "Drama:  [34, 519, 13, 253]\n",
      "nonDrama:  [38, 306, 42, 410]\n"
     ]
    }
   ],
   "source": [
    "sad = [\"death\", \"pain\", \"dramatic\", \"grief\"]\n",
    "happy = [\"happy\", \"love\", \"fun\", \"friends\"]\n",
    "\n",
    "print(\"Sad: \", \"\\n\",sad)\n",
    "print(\"Drama: \",[word_freq_drama[s] for s in sad])\n",
    "print(\"nonDrama: \",[word_freq_non_drama[s] for s in sad], \"\\n\")\n",
    "\n",
    "print(\"Happy: \",\"\\n\",happy)\n",
    "print(\"Drama: \",[word_freq_drama[s] for s in happy])\n",
    "print(\"nonDrama: \",[word_freq_non_drama[s] for s in happy])"
   ]
  },
  {
   "attachments": {},
   "cell_type": "markdown",
   "id": "1716bf63",
   "metadata": {},
   "source": [
    "#### now convert the frequencies into probabilities"
   ]
  },
  {
   "cell_type": "code",
   "execution_count": 84,
   "id": "ab3f72f7",
   "metadata": {},
   "outputs": [],
   "source": [
    "total_count = sum(word_freq_non_drama.values())\n",
    "prob_words_non_drama = {item: count/total_count for item, count in word_freq_non_drama.items()}\n",
    "\n",
    "total_count2 = sum(word_freq_drama.values())\n",
    "prob_words_drama = {item: count/total_count2 for item, count in word_freq_drama.items()}"
   ]
  },
  {
   "cell_type": "code",
   "execution_count": 119,
   "id": "7cf5d2b1",
   "metadata": {},
   "outputs": [
    {
     "data": {
      "text/plain": [
       "['raciallycharged',\n",
       " 'ponzi',\n",
       " 'drummy',\n",
       " 'clutter',\n",
       " 'sidesaddle',\n",
       " 'togetherand',\n",
       " 'rimbaud',\n",
       " 'sunday',\n",
       " 'abel',\n",
       " 'traced']"
      ]
     },
     "execution_count": 119,
     "metadata": {},
     "output_type": "execute_result"
    }
   ],
   "source": [
    "setd = set(prob_words_drama.keys())\n",
    "setnd = set(prob_words_non_drama.keys())\n",
    "\n",
    "delta = setd.difference(setnd)\n",
    "list(delta)[0:10] #..."
   ]
  },
  {
   "cell_type": "markdown",
   "id": "08a2ec74",
   "metadata": {},
   "source": [
    "##### Some Words are only in one Dictionary, but not in the other. \n",
    "<br>\n",
    "For zero occurences: Either add $\\alpha$ counts to each histogramm bin, or drop them completly"
   ]
  },
  {
   "cell_type": "code",
   "execution_count": 136,
   "id": "05e64cc2",
   "metadata": {},
   "outputs": [],
   "source": [
    "def NBC(prompt):\n",
    "    pd = [math.log(prob_drama)]\n",
    "    pnd = [math.log(prob_non_drama)]\n",
    "    \n",
    "    clean_prompt = re.sub(r'[^\\w\\s]', '', trim(prompt)).split()\n",
    "    for word in clean_prompt:\n",
    "        try: \n",
    "            x = prob_words_drama[word]\n",
    "            pd.append(math.log(x))\n",
    "        except KeyError:\n",
    "            pd.append(0)\n",
    "            \n",
    "        try: \n",
    "            y = prob_words_non_drama[word]\n",
    "            pnd.append(math.log(y))\n",
    "            \n",
    "        except KeyError:\n",
    "            pnd.append(0)\n",
    "            \n",
    "    if sum(pd) > sum(pnd):\n",
    "        print(\"The movie is more likely a drama\")\n",
    "    else:\n",
    "        print(\"The movie is more likely not a drama\")\n",
    "    print(\"Drama: \", sum(pd),\"\\n\",\"nonDrama: \", sum(pnd))"
   ]
  },
  {
   "cell_type": "code",
   "execution_count": 142,
   "id": "dcc1897c",
   "metadata": {},
   "outputs": [
    {
     "name": "stdout",
     "output_type": "stream",
     "text": [
      "The movie is more likely a drama\n",
      "Drama:  -47.59106291593444 \n",
      " nonDrama:  -60.656739643382636\n"
     ]
    }
   ],
   "source": [
    "test = \"after many futile attempts i tried to resign and gave up\"\n",
    "NBC(test)"
   ]
  }
 ],
 "metadata": {
  "kernelspec": {
   "display_name": "Python 3 (ipykernel)",
   "language": "python",
   "name": "python3"
  },
  "language_info": {
   "codemirror_mode": {
    "name": "ipython",
    "version": 3
   },
   "file_extension": ".py",
   "mimetype": "text/x-python",
   "name": "python",
   "nbconvert_exporter": "python",
   "pygments_lexer": "ipython3",
   "version": "3.11.2"
  }
 },
 "nbformat": 4,
 "nbformat_minor": 5
}

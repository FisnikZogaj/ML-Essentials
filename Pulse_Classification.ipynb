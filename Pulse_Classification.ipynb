{
 "cells": [
  {
   "attachments": {},
   "cell_type": "markdown",
   "id": "f4250d53",
   "metadata": {},
   "source": [
    "## Binary Classification on a small Dataset, whether a Person has a high or a low Restingpulse. \n",
    "techniques used: \n",
    "\n",
    "- logistic regression \n",
    "- confussion Matrix \n",
    "- Mutual Information and Entropy \n",
    "- ROC "
   ]
  },
  {
   "cell_type": "code",
   "execution_count": null,
   "id": "4b37c45f",
   "metadata": {},
   "outputs": [],
   "source": [
    "from sklearn.linear_model import LogisticRegression\n",
    "import numpy as np\n",
    "import math\n",
    "from matplotlib import pyplot as plt\n",
    "import pandas as pd \n",
    "from scipy.optimize import leastsq, curve_fit\n",
    "from scipy import linalg"
   ]
  },
  {
   "cell_type": "code",
   "execution_count": 2,
   "id": "ef4f2d04",
   "metadata": {},
   "outputs": [
    {
     "name": "stdout",
     "output_type": "stream",
     "text": [
      "<bound method NDFrame.head of     RestingPulse  Smokes  Weight\n",
      "0              0       0     140\n",
      "1              0       0     145\n",
      "2              0       1     160\n",
      "3              0       1     190\n",
      "4              0       0     155\n",
      "..           ...     ...     ...\n",
      "87             1       1     125\n",
      "88             0       0     133\n",
      "89             0       0     110\n",
      "90             1       0     150\n",
      "91             0       0     108\n",
      "\n",
      "[92 rows x 3 columns]>\n",
      "22\n"
     ]
    }
   ],
   "source": [
    "df = pd.read_csv(\"pulse.txt\", delimiter='\\t', header=0)#, names=['col1', 'col2', 'col3'])\n",
    "#print(df.head())\n",
    "\n",
    "convert = lambda x: 0 if x == \"No\"  else 1\n",
    "convert2 = lambda x: 0 if x == \"Low\"  else 1\n",
    "\n",
    "df.Smokes = df.Smokes.apply(convert)\n",
    "df.RestingPulse = df.RestingPulse.apply(convert2)\n",
    "print(df.head)\n",
    "print(sum(df.RestingPulse))"
   ]
  },
  {
   "cell_type": "code",
   "execution_count": 3,
   "id": "a06a9b98",
   "metadata": {},
   "outputs": [
    {
     "name": "stdout",
     "output_type": "stream",
     "text": [
      "[[ 0  2]\n",
      " [22 68]]\n"
     ]
    }
   ],
   "source": [
    "model = LogisticRegression()\n",
    "\n",
    "X = df[['Smokes', 'Weight']]\n",
    "Y = df['RestingPulse']\n",
    "\n",
    "# fit the model to the training data\n",
    "model.fit(X, Y)\n",
    "\n",
    "# predict the target variable for the testing data\n",
    "y_pred = model.predict(X)\n",
    "\n",
    "tab = np.array(pd.crosstab(y_pred, df.RestingPulse)) #order matters -> x-axis: obs | y-axis: pred\n",
    "tab[[0, 1]] = tab[[1, 0]] # swap rows and cols for correct interpretation \n",
    "tab[:, [0, 1]] = tab[:, [1, 0]]\n",
    "\n",
    "#print(pd.crosstab(y_pred , df.RestingPulse))\n",
    "print(tab)"
   ]
  },
  {
   "cell_type": "markdown",
   "id": "99d07c2b",
   "metadata": {},
   "source": [
    "TP: RestingPulse is High, and predicted that way \n",
    "FP: RestingPulse is High, but predicted low \n",
    "FN: RestingPulse is Low, but predicted High\n",
    "TN: RestingPulse is Low, and predicted that way "
   ]
  },
  {
   "cell_type": "code",
   "execution_count": 4,
   "id": "6917d65e",
   "metadata": {},
   "outputs": [
    {
     "name": "stdout",
     "output_type": "stream",
     "text": [
      "accuray:  0.7391304347826086\n",
      "failurerate:  0.26086956521739135\n",
      "true-positive-rate:  0.0\n",
      "false-positive-rate:  0.02857142857142857\n",
      "specifity:  1.0\n",
      "Percision:  0.0\n",
      "Prevalence:  0.2391304347826087\n",
      "zero-error-rate:  0.7608695652173914\n"
     ]
    },
    {
     "data": {
      "text/plain": [
       "-0.09613910028884337"
      ]
     },
     "execution_count": 4,
     "metadata": {},
     "output_type": "execute_result"
    }
   ],
   "source": [
    "def tab_analysis(tab):\n",
    "    total = sum(sum(tab))\n",
    "    TP = tab[0,0]\n",
    "    FP = tab[0,1]\n",
    "    FN = tab[1,0]\n",
    "    TN = tab[1,1]\n",
    "    \n",
    "    print(\"accuray: \", sum(np.diag(tab))/total)\n",
    "    print(\"failurerate: \", 1 - sum(np.diag(tab))/total)\n",
    "    print(\"true-positive-rate: \", TP/(TP+FN))\n",
    "    print(\"false-positive-rate: \", FP/(TN+FP))\n",
    "    print(\"specifity: \", 1 - (TP/(TP+FN)))\n",
    "    print(\"Percision: \", TP/(TP+FP))\n",
    "    print(\"Prevalence: \", (TP+FN)/total)\n",
    "    \n",
    "    if sum(tab[:,1]) <= sum(tab[:,0]):\n",
    "        print(\"zero-error-rate: \",sum(tab[:,0])/total)\n",
    "    else:\n",
    "        print(\"zero-error-rate: \",sum(tab[:,1])/total)\n",
    "        \n",
    "    return ((TP*TN) - (FP*FN))/(math.sqrt((TP+FP)*(TP+FN)*(TN+FP)*TN+FN))\n",
    "\n",
    "tab_analysis(tab)"
   ]
  },
  {
   "cell_type": "code",
   "execution_count": 5,
   "id": "677b6563",
   "metadata": {},
   "outputs": [],
   "source": [
    "def mining():\n",
    "    arr = model.predict_proba(X)\n",
    "    res = []\n",
    "    for p in np.arange(0, 1.01, 0.01):\n",
    "        comp = lambda x: 0 if x[0] >= p else 1 #checks the first col wich corresponds to % of low RP\n",
    "        preds = np.apply_along_axis(comp, axis=1, arr=arr)\n",
    "        \n",
    "        test = pd.crosstab(preds, df.RestingPulse)\n",
    "        #fill out pontetially empty rows \n",
    "        i = test.index.union(test.columns)\n",
    "        tab = np.array(test.reindex(index=i, columns=i, fill_value=0))\n",
    "    \n",
    "        #print(p)   \n",
    "        tab[[0, 1]] = tab[[1, 0]] \n",
    "        tab[:, [0, 1]] = tab[:, [1, 0]]\n",
    "        \n",
    "        TP = tab[0,0]\n",
    "        FP = tab[0,1]\n",
    "        FN = tab[1,0]\n",
    "        TN = tab[1,1]\n",
    "        \n",
    "        tpr = TP/(TP+FN)\n",
    "        fpr =  FP/(TN+FP)\n",
    "        \n",
    "        res.append((fpr,tpr))  #(x,y)\n",
    "    \n",
    "    return res \n",
    "\n",
    "roc = mining()"
   ]
  },
  {
   "cell_type": "code",
   "execution_count": 6,
   "id": "2a99a4c2",
   "metadata": {},
   "outputs": [],
   "source": [
    "def mining2():\n",
    "    #now drop weight as a predictor\n",
    "    model2 = LogisticRegression()\n",
    "\n",
    "    X = df[['Smokes']]\n",
    "    Y = df['RestingPulse']\n",
    "\n",
    "    model2.fit(X, Y)\n",
    "    arr = model2.predict_proba(X)\n",
    "\n",
    "    res = []\n",
    "    for p in np.arange(0, 1.01, 0.01):\n",
    "        comp = lambda x: 0 if x[0] >= p else 1 #checks the first col wich corresponds to % of low RP\n",
    "        preds = np.apply_along_axis(comp, axis=1, arr=arr)\n",
    "        \n",
    "        test = pd.crosstab(preds, df.RestingPulse)\n",
    "        #fill out pontetially empty rows \n",
    "        i = test.index.union(test.columns)\n",
    "        tab = np.array(test.reindex(index=i, columns=i, fill_value=0))\n",
    "    \n",
    "        #print(p)   \n",
    "        tab[[0, 1]] = tab[[1, 0]] \n",
    "        tab[:, [0, 1]] = tab[:, [1, 0]]\n",
    "        \n",
    "        TP = tab[0,0]\n",
    "        FP = tab[0,1]\n",
    "        FN = tab[1,0]\n",
    "        TN = tab[1,1]\n",
    "        \n",
    "        tpr = TP/(TP+FN)\n",
    "        fpr =  FP/(TN+FP)\n",
    "        \n",
    "        res.append((fpr,tpr))  #(x,y)\n",
    "    \n",
    "    return res \n",
    "\n",
    "roc2 = mining2()"
   ]
  },
  {
   "cell_type": "code",
   "execution_count": 7,
   "id": "4d9e6725",
   "metadata": {},
   "outputs": [
    {
     "data": {
      "image/png": "[encoded data removed]",
      "text/plain": [
       "<Figure size 640x480 with 1 Axes>"
      ]
     },
     "metadata": {},
     "output_type": "display_data"
    }
   ],
   "source": [
    "x, y = zip(*roc)\n",
    "x2, y2 = zip(*roc2)\n",
    "plt.plot(x,y, label = \"ROC\", color = \"blue\")\n",
    "plt.plot(x2, y2, label = \"ROC2\", color = \"green\")\n",
    "plt.plot(np.arange(0,1.01,0.1),np.arange(0,1.01,0.1), label = \"diagonal\", color = \"black\")\n",
    "plt.xlabel(\"FPR\")\n",
    "plt.ylabel(\"RPR\")\n",
    "plt.legend()\n",
    "plt.show()\n",
    "#points below the diag are possible "
   ]
  },
  {
   "cell_type": "markdown",
   "id": "6fd87cea",
   "metadata": {},
   "source": [
    "Since the AUC for the blue curve is greater, then for the green one, we conclude to not drop \"weight\" as a predictor"
   ]
  },
  {
   "cell_type": "markdown",
   "id": "cabaa7ad",
   "metadata": {},
   "source": [
    "## Mutual Information \n",
    "\n",
    "Find indipendent Variables, that contribute most to a prediction of a binary outcome \n",
    "\n",
    "$$I(X;Y) = \\sum_{y \\in Y} \\sum_{x \\in X} p(x,y) \\log\\frac{p(x,y)}{p(x)p(y)}$$\n",
    "\n",
    "In a 2x2 Table, the permutations are: (0,0) (0,1) (1,0) (1,1), hence we have 4 summands\n",
    "\n",
    "* mi = 0, if one of the two variables is constant --> No mutual Information\n",
    "* $mi \\approx 0.5$, if the variables are 100% positively or negatively correlated "
   ]
  },
  {
   "cell_type": "code",
   "execution_count": 16,
   "id": "e20a40d9",
   "metadata": {},
   "outputs": [],
   "source": [
    "from sklearn.metrics import mutual_info_score"
   ]
  },
  {
   "cell_type": "code",
   "execution_count": 21,
   "id": "723bb190",
   "metadata": {},
   "outputs": [
    {
     "data": {
      "text/html": [
       "<div>\n",
       "<style scoped>\n",
       "    .dataframe tbody tr th:only-of-type {\n",
       "        vertical-align: middle;\n",
       "    }\n",
       "\n",
       "    .dataframe tbody tr th {\n",
       "        vertical-align: top;\n",
       "    }\n",
       "\n",
       "    .dataframe thead th {\n",
       "        text-align: right;\n",
       "    }\n",
       "</style>\n",
       "<table border=\"1\" class=\"dataframe\">\n",
       "  <thead>\n",
       "    <tr style=\"text-align: right;\">\n",
       "      <th>RestingPulse</th>\n",
       "      <th>0</th>\n",
       "      <th>1</th>\n",
       "    </tr>\n",
       "    <tr>\n",
       "      <th>Smokes</th>\n",
       "      <th></th>\n",
       "      <th></th>\n",
       "    </tr>\n",
       "  </thead>\n",
       "  <tbody>\n",
       "    <tr>\n",
       "      <th>0</th>\n",
       "      <td>52</td>\n",
       "      <td>12</td>\n",
       "    </tr>\n",
       "    <tr>\n",
       "      <th>1</th>\n",
       "      <td>18</td>\n",
       "      <td>10</td>\n",
       "    </tr>\n",
       "  </tbody>\n",
       "</table>\n",
       "</div>"
      ],
      "text/plain": [
       "RestingPulse   0   1\n",
       "Smokes              \n",
       "0             52  12\n",
       "1             18  10"
      ]
     },
     "execution_count": 21,
     "metadata": {},
     "output_type": "execute_result"
    }
   ],
   "source": [
    "tab = pd.crosstab(df.Smokes, df.RestingPulse, margins = False)\n",
    "#tab2 = pd.crosstab(df.RestingPulse, df.Smokes, margins = False)\n",
    "tab"
   ]
  },
  {
   "cell_type": "code",
   "execution_count": 23,
   "id": "b60eba67",
   "metadata": {},
   "outputs": [
    {
     "name": "stdout",
     "output_type": "stream",
     "text": [
      "0.6931471805599452\n",
      "0.6931471805599452\n"
     ]
    }
   ],
   "source": [
    "mi = mutual_info_score(tab.values.ravel(), df['Smokes'].value_counts().values.repeat(2), contingency=None)\n",
    "#mi2 = mutual_info_score(tab2.values.ravel(), df['RestingPulse'].value_counts().values.repeat(2), contingency=None)\n",
    "#order doesnt matter \n",
    "print(mi)\n",
    "#print(mi2)\n",
    "#np.corrcoef(df.Smokes,df.RestingPulse)"
   ]
  },
  {
   "cell_type": "markdown",
   "id": "6db80ec8",
   "metadata": {},
   "source": [
    "### Nummeric values "
   ]
  },
  {
   "cell_type": "code",
   "execution_count": 36,
   "id": "7db840e4",
   "metadata": {},
   "outputs": [
    {
     "data": {
      "text/html": [
       "<div>\n",
       "<style scoped>\n",
       "    .dataframe tbody tr th:only-of-type {\n",
       "        vertical-align: middle;\n",
       "    }\n",
       "\n",
       "    .dataframe tbody tr th {\n",
       "        vertical-align: top;\n",
       "    }\n",
       "\n",
       "    .dataframe thead th {\n",
       "        text-align: right;\n",
       "    }\n",
       "</style>\n",
       "<table border=\"1\" class=\"dataframe\">\n",
       "  <thead>\n",
       "    <tr style=\"text-align: right;\">\n",
       "      <th></th>\n",
       "      <th>RestingPulse</th>\n",
       "      <th>Smokes</th>\n",
       "      <th>Weight</th>\n",
       "      <th>Groups</th>\n",
       "    </tr>\n",
       "  </thead>\n",
       "  <tbody>\n",
       "    <tr>\n",
       "      <th>0</th>\n",
       "      <td>0</td>\n",
       "      <td>0</td>\n",
       "      <td>140</td>\n",
       "      <td>2</td>\n",
       "    </tr>\n",
       "    <tr>\n",
       "      <th>1</th>\n",
       "      <td>0</td>\n",
       "      <td>0</td>\n",
       "      <td>145</td>\n",
       "      <td>3</td>\n",
       "    </tr>\n",
       "    <tr>\n",
       "      <th>2</th>\n",
       "      <td>0</td>\n",
       "      <td>1</td>\n",
       "      <td>160</td>\n",
       "      <td>3</td>\n",
       "    </tr>\n",
       "    <tr>\n",
       "      <th>3</th>\n",
       "      <td>0</td>\n",
       "      <td>1</td>\n",
       "      <td>190</td>\n",
       "      <td>4</td>\n",
       "    </tr>\n",
       "    <tr>\n",
       "      <th>4</th>\n",
       "      <td>0</td>\n",
       "      <td>0</td>\n",
       "      <td>155</td>\n",
       "      <td>3</td>\n",
       "    </tr>\n",
       "  </tbody>\n",
       "</table>\n",
       "</div>"
      ],
      "text/plain": [
       "   RestingPulse  Smokes  Weight Groups\n",
       "0             0       0     140      2\n",
       "1             0       0     145      3\n",
       "2             0       1     160      3\n",
       "3             0       1     190      4\n",
       "4             0       0     155      3"
      ]
     },
     "execution_count": 36,
     "metadata": {},
     "output_type": "execute_result"
    },
    {
     "data": {
      "image/png": "[encoded data removed]",
      "text/plain": [
       "<Figure size 640x480 with 1 Axes>"
      ]
     },
     "metadata": {},
     "output_type": "display_data"
    }
   ],
   "source": [
    "import pandas as pd\n",
    "\n",
    "# Create a Pandas Series with continuous data\n",
    "df.Weight\n",
    "# Bin the data into three groups\n",
    "bins = plt.hist(df.Weight, bins=5)[1]\n",
    "labels = [\"1\",\"2\", \"3\", \"4\", \"5\"]\n",
    "\n",
    "df[\"Groups\"] = pd.cut(df.Weight, bins=bins, labels=labels)\n",
    "df.head()\n"
   ]
  },
  {
   "cell_type": "code",
   "execution_count": 54,
   "id": "4a804551",
   "metadata": {},
   "outputs": [
    {
     "name": "stdout",
     "output_type": "stream",
     "text": [
      "0.5545177444479563\n"
     ]
    }
   ],
   "source": [
    "tab2 = pd.crosstab(df.Smokes, df.Groups, margins = False)\n",
    "#print(tab2)\n",
    "mi2 = mutual_info_score(tab2.values.ravel(), df['Smokes'].value_counts().values.repeat(5), contingency=None)\n",
    "print(mi2)"
   ]
  },
  {
   "cell_type": "markdown",
   "id": "05bd4418",
   "metadata": {},
   "source": [
    "**Note** on computaion "
   ]
  },
  {
   "cell_type": "code",
   "execution_count": 61,
   "id": "37af2ca5",
   "metadata": {},
   "outputs": [
    {
     "name": "stdout",
     "output_type": "stream",
     "text": [
      "Weight  (95.0, 119.0]  (119.0, 143.0]  (143.0, 167.0]  (167.0, 191.0]  \\\n",
      "Smokes                                                                  \n",
      "0                  10              22              23               6   \n",
      "1                   2               7              11               8   \n",
      "\n",
      "Weight  (191.0, 215.0]  \n",
      "Smokes                  \n",
      "0                    2  \n",
      "1                    0  \n",
      "[10 22 23  6  2  2  7 11  8  0] --> tab values\n",
      "[64 64 64 64 64 28 28 28 28 28] --> x-margins\n"
     ]
    }
   ],
   "source": [
    "print(tab2)\n",
    "print(tab2.values.ravel(), \"--> tab values\")\n",
    "print(df['Smokes'].value_counts().values.repeat(5), \"--> x-margins\")"
   ]
  }
 ],
 "metadata": {
  "kernelspec": {
   "display_name": "Python 3 (ipykernel)",
   "language": "python",
   "name": "python3"
  },
  "language_info": {
   "codemirror_mode": {
    "name": "ipython",
    "version": 3
   },
   "file_extension": ".py",
   "mimetype": "text/x-python",
   "name": "python",
   "nbconvert_exporter": "python",
   "pygments_lexer": "ipython3",
   "version": "3.11.2"
  }
 },
 "nbformat": 4,
 "nbformat_minor": 5
}
